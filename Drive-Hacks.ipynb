{
  "nbformat": 4,
  "nbformat_minor": 0,
  "metadata": {
    "colab": {
      "name": "Drive Hacks.ipynb",
      "provenance": [],
      "authorship_tag": "ABX9TyMZMizH2S0S5IjVXm0+6bk8",
      "include_colab_link": true
    },
    "kernelspec": {
      "name": "python3",
      "display_name": "Python 3"
    }
  },
  "cells": [
    {
      "cell_type": "markdown",
      "metadata": {
        "id": "view-in-github",
        "colab_type": "text"
      },
      "source": [
        "<a href=\"https://colab.research.google.com/github/Dhanya-Abhirami/Drive-Hacks/blob/main/Drive-Hacks.ipynb\" target=\"_parent\"><img src=\"https://colab.research.google.com/assets/colab-badge.svg\" alt=\"Open In Colab\"/></a>"
      ]
    },
    {
      "cell_type": "code",
      "metadata": {
        "id": "CclUP-xEoV-_"
      },
      "source": [
        "from google.colab import drive"
      ],
      "execution_count": null,
      "outputs": []
    },
    {
      "cell_type": "code",
      "metadata": {
        "id": "KXIG5oNeoc3E"
      },
      "source": [
        "drive.mount('/gdrive') # copy unique code"
      ],
      "execution_count": null,
      "outputs": []
    },
    {
      "cell_type": "markdown",
      "metadata": {
        "id": "28A0Lis21wWP"
      },
      "source": [
        "Make Copy of Shared Folder in your drive"
      ]
    },
    {
      "cell_type": "code",
      "metadata": {
        "id": "PcQ0NMXjoina"
      },
      "source": [
        "%cd /gdrive/My\\ Drive/shared_folder\n",
        "%pwd"
      ],
      "execution_count": null,
      "outputs": []
    },
    {
      "cell_type": "code",
      "metadata": {
        "id": "57a1TobDozdP"
      },
      "source": [
        "!cp -r 'copy_above_path/.' '/gdrive/My Drive/personal_folder'"
      ],
      "execution_count": null,
      "outputs": []
    },
    {
      "cell_type": "code",
      "metadata": {
        "id": "SDwIClmso_cU"
      },
      "source": [
        "%cd /gdrive/My\\ Drive/personal_folder\n",
        "%ls"
      ],
      "execution_count": null,
      "outputs": []
    },
    {
      "cell_type": "markdown",
      "metadata": {
        "id": "-1CsFEBw13xO"
      },
      "source": [
        "Download file from Drive to PC"
      ]
    },
    {
      "cell_type": "code",
      "metadata": {
        "id": "yFEstC8-pE2m"
      },
      "source": [
        "# find the share link of the file/folder on Google Drive\n",
        "file_share_link = \"https://drive.google.com/file/d/file_id/view?usp=sharing\"\n",
        "# extract the ID of the file\n",
        "file_id = file_share_link.split(\"/\")[5]\n",
        "\n",
        "# append the id to this REST command\n",
        "file_download_link = \"https://docs.google.com/uc?export=download&id=\" + file_id \n",
        "\n",
        "print(file_download_link)"
      ],
      "execution_count": null,
      "outputs": []
    },
    {
      "cell_type": "code",
      "metadata": {
        "id": "mWJG2i_G2Qka"
      },
      "source": [
        "!wget -O ebook.pdf --no-check-certificate \"$file_download_link\"\n"
      ],
      "execution_count": null,
      "outputs": []
    },
    {
      "cell_type": "code",
      "metadata": {
        "id": "6wHwoRww24OW"
      },
      "source": [
        ""
      ],
      "execution_count": null,
      "outputs": []
    }
  ]
}